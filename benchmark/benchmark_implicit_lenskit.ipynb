{
 "cells": [
  {
   "cell_type": "code",
   "execution_count": 1,
   "id": "cebfca2b",
   "metadata": {},
   "outputs": [],
   "source": [
    "import os\n",
    "os.environ[\"OPENBLAS_NUM_THREADS\"] = \"1\"\n",
    "import numpy as np, pandas as pd\n",
    "from scipy.sparse import coo_matrix\n",
    "from lenskit.algorithms.als import ImplicitMF\n",
    "\n",
    "df_all = pd.read_csv(\"lfm_all.csv\")\n",
    "df_train = pd.read_csv(\"lfm_train.csv\")\n",
    "df_test = pd.read_csv(\"lfm_test.csv\")\n",
    "\n",
    "def df_to_csr(df, ncols=None):\n",
    "    shape = None\n",
    "    if ncols is not None:\n",
    "        shape = (df.user_id.max() + 1, ncols)\n",
    "    X = coo_matrix((df.counts, (df.user_id, df.item_id)), shape=shape)\n",
    "    X.row = X.row.astype(np.int32)\n",
    "    X.col = X.col.astype(np.int32)\n",
    "    X.data = X.data.astype(np.float64)\n",
    "    return X.tocsr()\n",
    "\n",
    "X_train = df_to_csr(df_train)\n",
    "X_test = df_to_csr(df_test, X_train.shape[1])\n",
    "\n",
    "remap = {\"user_id\":\"user\", \"item_id\":\"item\", \"counts\":\"rating\"}\n",
    "df_all = df_all.rename(columns=remap)\n",
    "df_train = df_train.rename(columns=remap)\n",
    "df_test = df_test.rename(columns=remap)"
   ]
  },
  {
   "cell_type": "code",
   "execution_count": 2,
   "id": "c6af8a34",
   "metadata": {},
   "outputs": [
    {
     "name": "stderr",
     "output_type": "stream",
     "text": [
      "Numba is using threading layer omp - consider TBB\n",
      "BLAS using multiple threads - can cause oversubscription\n",
      "found 2 potential runtime problems - see https://boi.st/lkpy-perf\n"
     ]
    },
    {
     "name": "stdout",
     "output_type": "stream",
     "text": [
      "CPU times: user 15min 3s, sys: 3.46 s, total: 15min 6s\n",
      "Wall time: 1min 8s\n"
     ]
    },
    {
     "data": {
      "text/plain": [
       "<lenskit.algorithms.als.ImplicitMF at 0x7fa868718100>"
      ]
     },
     "execution_count": 2,
     "metadata": {},
     "output_type": "execute_result"
    }
   ],
   "source": [
    "%%time\n",
    "### despite what it says below, it refused to work with TBB as threading layer,\n",
    "### whether installed through conda or through pip, so it was left with omp\n",
    "model_cg = ImplicitMF(\n",
    "    features=50, iterations=15, reg=5, weight=1,\n",
    "    use_ratings=True, method=\"cg\", rng_spec=123,\n",
    "    progress=None, save_user_features=True\n",
    ")\n",
    "model_cg.fit(df_all)"
   ]
  },
  {
   "cell_type": "code",
   "execution_count": 3,
   "id": "20e748e2",
   "metadata": {},
   "outputs": [
    {
     "name": "stdout",
     "output_type": "stream",
     "text": [
      "CPU times: user 19min 49s, sys: 4.32 s, total: 19min 53s\n",
      "Wall time: 1min 24s\n"
     ]
    },
    {
     "data": {
      "text/plain": [
       "<lenskit.algorithms.als.ImplicitMF at 0x7fa7a64774c0>"
      ]
     },
     "execution_count": 3,
     "metadata": {},
     "output_type": "execute_result"
    }
   ],
   "source": [
    "%%time\n",
    "model_chol = ImplicitMF(\n",
    "    features=50, iterations=15, reg=5, weight=1,\n",
    "    use_ratings=True, method=\"lu\", rng_spec=123,\n",
    "    progress=None, save_user_features=True\n",
    ")\n",
    "model_chol.fit(df_all)"
   ]
  },
  {
   "cell_type": "code",
   "execution_count": 4,
   "id": "dcf8e48e",
   "metadata": {},
   "outputs": [],
   "source": [
    "from recometrics import calc_reco_metrics\n",
    "\n",
    "model_cg = ImplicitMF(\n",
    "    features=50, iterations=15, reg=5, weight=1,\n",
    "    use_ratings=True, method=\"cg\", rng_spec=123,\n",
    "    progress=None, save_user_features=True\n",
    ")\n",
    "model_cg.fit(df_train)\n",
    "metrics_cg = calc_reco_metrics(\n",
    "    X_train[:X_test.shape[0], model_cg.item_index_],\n",
    "    X_test[:, model_cg.item_index_],\n",
    "    model_cg.user_features_[model_cg.user_index_ < X_test.shape[0], :],\n",
    "    model_cg.item_features_,\n",
    "    k=10, all_metrics=True\n",
    ")\n",
    "\n",
    "model_chol = ImplicitMF(\n",
    "    features=50, iterations=15, reg=5, weight=1,\n",
    "    use_ratings=True, method=\"lu\", rng_spec=123,\n",
    "    progress=None, save_user_features=True\n",
    ")\n",
    "model_chol.fit(df_train)\n",
    "metrics_chol = calc_reco_metrics(\n",
    "    X_train[:X_test.shape[0], model_chol.item_index_],\n",
    "    X_test[:, model_chol.item_index_],\n",
    "    model_chol.user_features_[model_chol.user_index_ < X_test.shape[0], :],\n",
    "    model_chol.item_features_,\n",
    "    k=10, all_metrics=True\n",
    ")"
   ]
  },
  {
   "cell_type": "code",
   "execution_count": 5,
   "id": "c00deb15",
   "metadata": {},
   "outputs": [
    {
     "data": {
      "text/html": [
       "<div>\n",
       "<style scoped>\n",
       "    .dataframe tbody tr th:only-of-type {\n",
       "        vertical-align: middle;\n",
       "    }\n",
       "\n",
       "    .dataframe tbody tr th {\n",
       "        vertical-align: top;\n",
       "    }\n",
       "\n",
       "    .dataframe thead th {\n",
       "        text-align: right;\n",
       "    }\n",
       "</style>\n",
       "<table border=\"1\" class=\"dataframe\">\n",
       "  <thead>\n",
       "    <tr style=\"text-align: right;\">\n",
       "      <th></th>\n",
       "      <th>P@10</th>\n",
       "      <th>TP@10</th>\n",
       "      <th>R@10</th>\n",
       "      <th>AP@10</th>\n",
       "      <th>TAP@10</th>\n",
       "      <th>NDCG@10</th>\n",
       "      <th>Hit@10</th>\n",
       "      <th>RR@10</th>\n",
       "      <th>ROC_AUC</th>\n",
       "      <th>PR_AUC</th>\n",
       "    </tr>\n",
       "  </thead>\n",
       "  <tbody>\n",
       "    <tr>\n",
       "      <th>0</th>\n",
       "      <td>0.17069</td>\n",
       "      <td>0.171744</td>\n",
       "      <td>0.118615</td>\n",
       "      <td>0.061851</td>\n",
       "      <td>0.089617</td>\n",
       "      <td>0.168607</td>\n",
       "      <td>0.7845</td>\n",
       "      <td>0.413202</td>\n",
       "      <td>0.981176</td>\n",
       "      <td>0.121846</td>\n",
       "    </tr>\n",
       "  </tbody>\n",
       "</table>\n",
       "</div>"
      ],
      "text/plain": [
       "      P@10     TP@10      R@10     AP@10    TAP@10   NDCG@10  Hit@10  \\\n",
       "0  0.17069  0.171744  0.118615  0.061851  0.089617  0.168607  0.7845   \n",
       "\n",
       "      RR@10   ROC_AUC    PR_AUC  \n",
       "0  0.413202  0.981176  0.121846  "
      ]
     },
     "execution_count": 5,
     "metadata": {},
     "output_type": "execute_result"
    }
   ],
   "source": [
    "metrics_cg.mean().to_frame().T"
   ]
  },
  {
   "cell_type": "code",
   "execution_count": 6,
   "id": "4d49dced",
   "metadata": {},
   "outputs": [
    {
     "data": {
      "text/html": [
       "<div>\n",
       "<style scoped>\n",
       "    .dataframe tbody tr th:only-of-type {\n",
       "        vertical-align: middle;\n",
       "    }\n",
       "\n",
       "    .dataframe tbody tr th {\n",
       "        vertical-align: top;\n",
       "    }\n",
       "\n",
       "    .dataframe thead th {\n",
       "        text-align: right;\n",
       "    }\n",
       "</style>\n",
       "<table border=\"1\" class=\"dataframe\">\n",
       "  <thead>\n",
       "    <tr style=\"text-align: right;\">\n",
       "      <th></th>\n",
       "      <th>P@10</th>\n",
       "      <th>TP@10</th>\n",
       "      <th>R@10</th>\n",
       "      <th>AP@10</th>\n",
       "      <th>TAP@10</th>\n",
       "      <th>NDCG@10</th>\n",
       "      <th>Hit@10</th>\n",
       "      <th>RR@10</th>\n",
       "      <th>ROC_AUC</th>\n",
       "      <th>PR_AUC</th>\n",
       "    </tr>\n",
       "  </thead>\n",
       "  <tbody>\n",
       "    <tr>\n",
       "      <th>0</th>\n",
       "      <td>0.16941</td>\n",
       "      <td>0.170519</td>\n",
       "      <td>0.117761</td>\n",
       "      <td>0.06156</td>\n",
       "      <td>0.089272</td>\n",
       "      <td>0.167357</td>\n",
       "      <td>0.7817</td>\n",
       "      <td>0.41194</td>\n",
       "      <td>0.98148</td>\n",
       "      <td>0.122121</td>\n",
       "    </tr>\n",
       "  </tbody>\n",
       "</table>\n",
       "</div>"
      ],
      "text/plain": [
       "      P@10     TP@10      R@10    AP@10    TAP@10   NDCG@10  Hit@10    RR@10  \\\n",
       "0  0.16941  0.170519  0.117761  0.06156  0.089272  0.167357  0.7817  0.41194   \n",
       "\n",
       "   ROC_AUC    PR_AUC  \n",
       "0  0.98148  0.122121  "
      ]
     },
     "execution_count": 6,
     "metadata": {},
     "output_type": "execute_result"
    }
   ],
   "source": [
    "metrics_chol.mean().to_frame().T"
   ]
  }
 ],
 "metadata": {
  "kernelspec": {
   "display_name": "Python (OpenBLAS)",
   "language": "python",
   "name": "py3"
  },
  "language_info": {
   "codemirror_mode": {
    "name": "ipython",
    "version": 3
   },
   "file_extension": ".py",
   "mimetype": "text/x-python",
   "name": "python",
   "nbconvert_exporter": "python",
   "pygments_lexer": "ipython3",
   "version": "3.9.7"
  },
  "toc": {
   "base_numbering": 1,
   "nav_menu": {},
   "number_sections": true,
   "sideBar": true,
   "skip_h1_title": false,
   "title_cell": "Table of Contents",
   "title_sidebar": "Contents",
   "toc_cell": false,
   "toc_position": {},
   "toc_section_display": true,
   "toc_window_display": false
  }
 },
 "nbformat": 4,
 "nbformat_minor": 5
}
