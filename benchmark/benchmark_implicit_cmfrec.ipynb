{
 "cells": [
  {
   "cell_type": "code",
   "execution_count": 1,
   "id": "5f8cd4a7",
   "metadata": {},
   "outputs": [
    {
     "data": {
      "text/plain": [
       "<358858x160112 sparse matrix of type '<class 'numpy.float64'>'\n",
       "\twith 17164027 stored elements in COOrdinate format>"
      ]
     },
     "execution_count": 1,
     "metadata": {},
     "output_type": "execute_result"
    }
   ],
   "source": [
    "import numpy as np, pandas as pd\n",
    "from scipy.sparse import coo_matrix\n",
    "from cmfrec import CMF_implicit\n",
    "\n",
    "df_all = pd.read_csv(\"lfm_all.csv\")\n",
    "df_train = pd.read_csv(\"lfm_train.csv\")\n",
    "df_test = pd.read_csv(\"lfm_test.csv\")\n",
    "\n",
    "def df_to_coo(df):\n",
    "    X = coo_matrix((df.counts, (df.user_id, df.item_id)))\n",
    "    X.row = X.row.astype(np.int32)\n",
    "    X.col = X.col.astype(np.int32)\n",
    "    X.data = X.data.astype(np.float64)\n",
    "    return X\n",
    "\n",
    "X_all = df_to_coo(df_all)\n",
    "X_train = df_to_coo(df_train)\n",
    "X_test = df_to_coo(df_test)\n",
    "\n",
    "X_train"
   ]
  },
  {
   "cell_type": "code",
   "execution_count": 2,
   "id": "269e559e",
   "metadata": {},
   "outputs": [
    {
     "name": "stdout",
     "output_type": "stream",
     "text": [
      "CPU times: user 7min 44s, sys: 923 ms, total: 7min 44s\n",
      "Wall time: 31.9 s\n"
     ]
    },
    {
     "data": {
      "text/plain": [
       "Collective matrix factorization model\n",
       "(implicit-feedback variant)\n"
      ]
     },
     "execution_count": 2,
     "metadata": {},
     "output_type": "execute_result"
    }
   ],
   "source": [
    "%%time\n",
    "model_cg = CMF_implicit(\n",
    "    k=50, lambda_=5, niter=15, use_float=False,\n",
    "    use_cg=True, finalize_chol=False,\n",
    "    precompute_for_predictions=False,\n",
    "    verbose=False\n",
    ")\n",
    "model_cg.fit(X_all)"
   ]
  },
  {
   "cell_type": "code",
   "execution_count": 3,
   "id": "676ce3cc",
   "metadata": {},
   "outputs": [
    {
     "name": "stdout",
     "output_type": "stream",
     "text": [
      "CPU times: user 13min 16s, sys: 484 ms, total: 13min 16s\n",
      "Wall time: 53.1 s\n"
     ]
    },
    {
     "data": {
      "text/plain": [
       "Collective matrix factorization model\n",
       "(implicit-feedback variant)\n"
      ]
     },
     "execution_count": 3,
     "metadata": {},
     "output_type": "execute_result"
    }
   ],
   "source": [
    "%%time\n",
    "model_chol = CMF_implicit(\n",
    "    k=50, lambda_=5, niter=15, use_float=False,\n",
    "    use_cg=False,\n",
    "    precompute_for_predictions=False,\n",
    "    verbose=False\n",
    ")\n",
    "model_chol.fit(X_all)"
   ]
  },
  {
   "cell_type": "code",
   "execution_count": 4,
   "id": "857a1da8",
   "metadata": {},
   "outputs": [],
   "source": [
    "from recometrics import calc_reco_metrics\n",
    "\n",
    "model_cg = CMF_implicit(\n",
    "    k=50, lambda_=5, niter=15, use_float=False,\n",
    "    use_cg=True, finalize_chol=False,\n",
    "    precompute_for_predictions=False,\n",
    "    verbose=False\n",
    ").fit(X_train)\n",
    "metrics_cg = calc_reco_metrics(\n",
    "    X_train.tocsr()[:X_test.shape[0],:X_test.shape[1]],\n",
    "    X_test.tocsr(),\n",
    "    model_cg.A_[:X_test.shape[0],:],\n",
    "    model_cg.B_[:X_test.shape[1],:],\n",
    "    k=10, all_metrics=True\n",
    ")\n",
    "\n",
    "model_chol = CMF_implicit(\n",
    "    k=50, lambda_=5, niter=15, use_float=False,\n",
    "    use_cg=False,\n",
    "    precompute_for_predictions=False,\n",
    "    verbose=False\n",
    ").fit(X_train)\n",
    "metrics_chol = calc_reco_metrics(\n",
    "    X_train.tocsr()[:X_test.shape[0],:X_test.shape[1]],\n",
    "    X_test.tocsr(),\n",
    "    model_chol.A_[:X_test.shape[0],:],\n",
    "    model_chol.B_[:X_test.shape[1],:],\n",
    "    k=10, all_metrics=True\n",
    ")"
   ]
  },
  {
   "cell_type": "code",
   "execution_count": 5,
   "id": "ba53cd08",
   "metadata": {},
   "outputs": [
    {
     "data": {
      "text/html": [
       "<div>\n",
       "<style scoped>\n",
       "    .dataframe tbody tr th:only-of-type {\n",
       "        vertical-align: middle;\n",
       "    }\n",
       "\n",
       "    .dataframe tbody tr th {\n",
       "        vertical-align: top;\n",
       "    }\n",
       "\n",
       "    .dataframe thead th {\n",
       "        text-align: right;\n",
       "    }\n",
       "</style>\n",
       "<table border=\"1\" class=\"dataframe\">\n",
       "  <thead>\n",
       "    <tr style=\"text-align: right;\">\n",
       "      <th></th>\n",
       "      <th>P@10</th>\n",
       "      <th>TP@10</th>\n",
       "      <th>R@10</th>\n",
       "      <th>AP@10</th>\n",
       "      <th>TAP@10</th>\n",
       "      <th>NDCG@10</th>\n",
       "      <th>Hit@10</th>\n",
       "      <th>RR@10</th>\n",
       "      <th>ROC_AUC</th>\n",
       "      <th>PR_AUC</th>\n",
       "    </tr>\n",
       "  </thead>\n",
       "  <tbody>\n",
       "    <tr>\n",
       "      <th>0</th>\n",
       "      <td>0.16969</td>\n",
       "      <td>0.170697</td>\n",
       "      <td>0.117693</td>\n",
       "      <td>0.061095</td>\n",
       "      <td>0.088718</td>\n",
       "      <td>0.168071</td>\n",
       "      <td>0.781</td>\n",
       "      <td>0.409968</td>\n",
       "      <td>0.98019</td>\n",
       "      <td>0.12135</td>\n",
       "    </tr>\n",
       "  </tbody>\n",
       "</table>\n",
       "</div>"
      ],
      "text/plain": [
       "      P@10     TP@10      R@10     AP@10    TAP@10   NDCG@10  Hit@10  \\\n",
       "0  0.16969  0.170697  0.117693  0.061095  0.088718  0.168071   0.781   \n",
       "\n",
       "      RR@10  ROC_AUC   PR_AUC  \n",
       "0  0.409968  0.98019  0.12135  "
      ]
     },
     "execution_count": 5,
     "metadata": {},
     "output_type": "execute_result"
    }
   ],
   "source": [
    "metrics_cg.mean().to_frame().T"
   ]
  },
  {
   "cell_type": "code",
   "execution_count": 6,
   "id": "de86cd33",
   "metadata": {},
   "outputs": [
    {
     "data": {
      "text/html": [
       "<div>\n",
       "<style scoped>\n",
       "    .dataframe tbody tr th:only-of-type {\n",
       "        vertical-align: middle;\n",
       "    }\n",
       "\n",
       "    .dataframe tbody tr th {\n",
       "        vertical-align: top;\n",
       "    }\n",
       "\n",
       "    .dataframe thead th {\n",
       "        text-align: right;\n",
       "    }\n",
       "</style>\n",
       "<table border=\"1\" class=\"dataframe\">\n",
       "  <thead>\n",
       "    <tr style=\"text-align: right;\">\n",
       "      <th></th>\n",
       "      <th>P@10</th>\n",
       "      <th>TP@10</th>\n",
       "      <th>R@10</th>\n",
       "      <th>AP@10</th>\n",
       "      <th>TAP@10</th>\n",
       "      <th>NDCG@10</th>\n",
       "      <th>Hit@10</th>\n",
       "      <th>RR@10</th>\n",
       "      <th>ROC_AUC</th>\n",
       "      <th>PR_AUC</th>\n",
       "    </tr>\n",
       "  </thead>\n",
       "  <tbody>\n",
       "    <tr>\n",
       "      <th>0</th>\n",
       "      <td>0.1701</td>\n",
       "      <td>0.171118</td>\n",
       "      <td>0.117924</td>\n",
       "      <td>0.06131</td>\n",
       "      <td>0.089032</td>\n",
       "      <td>0.167783</td>\n",
       "      <td>0.7844</td>\n",
       "      <td>0.413211</td>\n",
       "      <td>0.980527</td>\n",
       "      <td>0.121761</td>\n",
       "    </tr>\n",
       "  </tbody>\n",
       "</table>\n",
       "</div>"
      ],
      "text/plain": [
       "     P@10     TP@10      R@10    AP@10    TAP@10   NDCG@10  Hit@10     RR@10  \\\n",
       "0  0.1701  0.171118  0.117924  0.06131  0.089032  0.167783  0.7844  0.413211   \n",
       "\n",
       "    ROC_AUC    PR_AUC  \n",
       "0  0.980527  0.121761  "
      ]
     },
     "execution_count": 6,
     "metadata": {},
     "output_type": "execute_result"
    }
   ],
   "source": [
    "metrics_chol.mean().to_frame().T"
   ]
  }
 ],
 "metadata": {
  "kernelspec": {
   "display_name": "Python (OpenBLAS)",
   "language": "python",
   "name": "py3"
  },
  "language_info": {
   "codemirror_mode": {
    "name": "ipython",
    "version": 3
   },
   "file_extension": ".py",
   "mimetype": "text/x-python",
   "name": "python",
   "nbconvert_exporter": "python",
   "pygments_lexer": "ipython3",
   "version": "3.9.7"
  },
  "toc": {
   "base_numbering": 1,
   "nav_menu": {},
   "number_sections": true,
   "sideBar": true,
   "skip_h1_title": false,
   "title_cell": "Table of Contents",
   "title_sidebar": "Contents",
   "toc_cell": false,
   "toc_position": {},
   "toc_section_display": true,
   "toc_window_display": false
  }
 },
 "nbformat": 4,
 "nbformat_minor": 5
}
