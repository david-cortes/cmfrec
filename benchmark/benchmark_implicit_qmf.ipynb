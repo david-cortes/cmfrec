{
 "cells": [
  {
   "cell_type": "code",
   "execution_count": 1,
   "id": "9ff3c285",
   "metadata": {},
   "outputs": [
    {
     "data": {
      "text/plain": [
       "<358858x160112 sparse matrix of type '<class 'numpy.float64'>'\n",
       "\twith 17164027 stored elements in Compressed Sparse Row format>"
      ]
     },
     "execution_count": 1,
     "metadata": {},
     "output_type": "execute_result"
    }
   ],
   "source": [
    "import numpy as np, pandas as pd\n",
    "from scipy.sparse import coo_matrix\n",
    "\n",
    "df_all = pd.read_csv(\"lfm_all.csv\")\n",
    "df_train = pd.read_csv(\"lfm_train.csv\")\n",
    "df_test = pd.read_csv(\"lfm_test.csv\")\n",
    "\n",
    "def df_to_csr(df, ncols=None):\n",
    "    shape = None\n",
    "    if ncols is not None:\n",
    "        shape = (df.user_id.max() + 1, ncols)\n",
    "    X = coo_matrix((df.counts, (df.user_id, df.item_id)), shape=shape)\n",
    "    X.row = X.row.astype(np.int32)\n",
    "    X.col = X.col.astype(np.int32)\n",
    "    X.data = X.data.astype(np.float64)\n",
    "    return X.tocsr()\n",
    "\n",
    "X_train = df_to_csr(df_train)\n",
    "X_test = df_to_csr(df_test, X_train.shape[1])\n",
    "\n",
    "X_train"
   ]
  },
  {
   "cell_type": "code",
   "execution_count": 2,
   "id": "6a642105",
   "metadata": {},
   "outputs": [],
   "source": [
    "df_all.to_csv(\"lfm_all_qmf.txt\", header=None, index=False, sep=\" \")\n",
    "df_train.to_csv(\"lfm_train_qmf.txt\", header=None, index=False, sep=\" \")"
   ]
  },
  {
   "cell_type": "code",
   "execution_count": 3,
   "id": "3c9287ed",
   "metadata": {},
   "outputs": [
    {
     "name": "stderr",
     "output_type": "stream",
     "text": [
      "W0130 16:20:56.736310 51412 wals.cpp:59] warning: missing model output filenames! (use options --{user,item}_factors)\n",
      "I0130 16:20:56.736975 51412 wals.cpp:85] loading training data\n",
      "I0130 16:21:05.400418 51412 wals.cpp:95] training\n",
      "I0130 16:21:11.585600 51412 WALSEngine.cpp:80] epoch 1: train loss = 0.0311849\n",
      "I0130 16:21:17.760138 51412 WALSEngine.cpp:80] epoch 2: train loss = 0.00979692\n",
      "I0130 16:21:24.229785 51412 WALSEngine.cpp:80] epoch 3: train loss = 0.00852864\n",
      "I0130 16:21:30.383226 51412 WALSEngine.cpp:80] epoch 4: train loss = 0.00815274\n",
      "I0130 16:21:36.551026 51412 WALSEngine.cpp:80] epoch 5: train loss = 0.00797889\n",
      "I0130 16:21:42.725528 51412 WALSEngine.cpp:80] epoch 6: train loss = 0.00787992\n",
      "I0130 16:21:48.944829 51412 WALSEngine.cpp:80] epoch 7: train loss = 0.0078166\n",
      "I0130 16:21:55.209519 51412 WALSEngine.cpp:80] epoch 8: train loss = 0.00777291\n",
      "I0130 16:22:01.493095 51412 WALSEngine.cpp:80] epoch 9: train loss = 0.00774109\n",
      "I0130 16:22:07.788581 51412 WALSEngine.cpp:80] epoch 10: train loss = 0.00771694\n",
      "I0130 16:22:14.612273 51412 WALSEngine.cpp:80] epoch 11: train loss = 0.00769798\n",
      "I0130 16:22:20.851788 51412 WALSEngine.cpp:80] epoch 12: train loss = 0.00768271\n",
      "I0130 16:22:27.033824 51412 WALSEngine.cpp:80] epoch 13: train loss = 0.00767011\n",
      "I0130 16:22:33.170186 51412 WALSEngine.cpp:80] epoch 14: train loss = 0.00765953\n",
      "I0130 16:22:39.447897 51412 WALSEngine.cpp:80] epoch 15: train loss = 0.0076505\n"
     ]
    },
    {
     "name": "stdout",
     "output_type": "stream",
     "text": [
      "CPU times: user 25.9 ms, sys: 4.86 ms, total: 30.8 ms\n",
      "Wall time: 1min 42s\n"
     ]
    }
   ],
   "source": [
    "%%time\n",
    "%%bash\n",
    "./wals \\\n",
    "    --train_dataset=lfm_all_qmf.txt \\\n",
    "    --regularization_lambda=5 \\\n",
    "    --confidence_weight=1 \\\n",
    "    --nepochs=15 \\\n",
    "    --nfactors=50 \\\n",
    "    --nthreads=`nproc`"
   ]
  },
  {
   "cell_type": "code",
   "execution_count": 4,
   "id": "827018fb",
   "metadata": {},
   "outputs": [
    {
     "name": "stderr",
     "output_type": "stream",
     "text": [
      "I0130 16:22:39.548285 51653 wals.cpp:85] loading training data\n",
      "I0130 16:22:47.779603 51653 wals.cpp:95] training\n",
      "I0130 16:22:55.056471 51653 WALSEngine.cpp:80] epoch 1: train loss = 0.0311324\n",
      "I0130 16:23:02.110939 51653 WALSEngine.cpp:80] epoch 2: train loss = 0.00975674\n",
      "I0130 16:23:09.361900 51653 WALSEngine.cpp:80] epoch 3: train loss = 0.0084877\n",
      "I0130 16:23:15.750965 51653 WALSEngine.cpp:80] epoch 4: train loss = 0.00811952\n",
      "I0130 16:23:21.997252 51653 WALSEngine.cpp:80] epoch 5: train loss = 0.00795056\n",
      "I0130 16:23:28.306654 51653 WALSEngine.cpp:80] epoch 6: train loss = 0.00785446\n",
      "I0130 16:23:34.683807 51653 WALSEngine.cpp:80] epoch 7: train loss = 0.00779274\n",
      "I0130 16:23:41.628362 51653 WALSEngine.cpp:80] epoch 8: train loss = 0.00774977\n",
      "I0130 16:23:48.921173 51653 WALSEngine.cpp:80] epoch 9: train loss = 0.00771808\n",
      "I0130 16:23:56.186064 51653 WALSEngine.cpp:80] epoch 10: train loss = 0.00769369\n",
      "I0130 16:24:02.648850 51653 WALSEngine.cpp:80] epoch 11: train loss = 0.00767434\n",
      "I0130 16:24:09.013965 51653 WALSEngine.cpp:80] epoch 12: train loss = 0.0076586\n",
      "I0130 16:24:15.398669 51653 WALSEngine.cpp:80] epoch 13: train loss = 0.00764557\n",
      "I0130 16:24:21.569075 51653 WALSEngine.cpp:80] epoch 14: train loss = 0.0076346\n",
      "I0130 16:24:27.734180 51653 WALSEngine.cpp:80] epoch 15: train loss = 0.00762524\n",
      "I0130 16:24:27.734205 51653 wals.cpp:99] saving model output\n"
     ]
    }
   ],
   "source": [
    "%%bash\n",
    "./wals \\\n",
    "    --train_dataset=lfm_train_qmf.txt \\\n",
    "    --user_factors=qmf_out_A.txt \\\n",
    "    --item_factors=qmf_out_B.txt \\\n",
    "    --regularization_lambda=5 \\\n",
    "    --confidence_weight=1 \\\n",
    "    --nepochs=15 \\\n",
    "    --nfactors=50 \\\n",
    "    --nthreads=`nproc`"
   ]
  },
  {
   "cell_type": "code",
   "execution_count": 5,
   "id": "627b259f",
   "metadata": {},
   "outputs": [],
   "source": [
    "from recometrics import calc_reco_metrics\n",
    "\n",
    "A = pd.read_csv(\"qmf_out_A.txt\", sep=\"\\s\", engine=\"python\", header=None)\n",
    "B = pd.read_csv(\"qmf_out_B.txt\", sep=\"\\s\", engine=\"python\", header=None)\n",
    "\n",
    "idx_A = A[0]\n",
    "idx_A_test = idx_A[idx_A < X_test.shape[0]]\n",
    "A = np.ascontiguousarray(A[A.columns[1:]].to_numpy())\n",
    "idx_B = B[0]\n",
    "B = np.ascontiguousarray(B[B.columns[1:]].to_numpy())\n",
    "\n",
    "metrics_chol = calc_reco_metrics(\n",
    "    X_train[idx_A_test, :][:, idx_B],\n",
    "    X_test[idx_A_test, :][:, idx_B],\n",
    "    A[idx_A < X_test.shape[0], :],\n",
    "    B,\n",
    "    k=10, all_metrics=True\n",
    ")"
   ]
  },
  {
   "cell_type": "code",
   "execution_count": 6,
   "id": "4e8c8318",
   "metadata": {},
   "outputs": [
    {
     "data": {
      "text/html": [
       "<div>\n",
       "<style scoped>\n",
       "    .dataframe tbody tr th:only-of-type {\n",
       "        vertical-align: middle;\n",
       "    }\n",
       "\n",
       "    .dataframe tbody tr th {\n",
       "        vertical-align: top;\n",
       "    }\n",
       "\n",
       "    .dataframe thead th {\n",
       "        text-align: right;\n",
       "    }\n",
       "</style>\n",
       "<table border=\"1\" class=\"dataframe\">\n",
       "  <thead>\n",
       "    <tr style=\"text-align: right;\">\n",
       "      <th></th>\n",
       "      <th>P@10</th>\n",
       "      <th>TP@10</th>\n",
       "      <th>R@10</th>\n",
       "      <th>AP@10</th>\n",
       "      <th>TAP@10</th>\n",
       "      <th>NDCG@10</th>\n",
       "      <th>Hit@10</th>\n",
       "      <th>RR@10</th>\n",
       "      <th>ROC_AUC</th>\n",
       "      <th>PR_AUC</th>\n",
       "    </tr>\n",
       "  </thead>\n",
       "  <tbody>\n",
       "    <tr>\n",
       "      <th>0</th>\n",
       "      <td>0.17019</td>\n",
       "      <td>0.171254</td>\n",
       "      <td>0.118182</td>\n",
       "      <td>0.06189</td>\n",
       "      <td>0.089924</td>\n",
       "      <td>0.168932</td>\n",
       "      <td>0.7873</td>\n",
       "      <td>0.419423</td>\n",
       "      <td>0.981775</td>\n",
       "      <td>0.122017</td>\n",
       "    </tr>\n",
       "  </tbody>\n",
       "</table>\n",
       "</div>"
      ],
      "text/plain": [
       "      P@10     TP@10      R@10    AP@10    TAP@10   NDCG@10  Hit@10     RR@10  \\\n",
       "0  0.17019  0.171254  0.118182  0.06189  0.089924  0.168932  0.7873  0.419423   \n",
       "\n",
       "    ROC_AUC    PR_AUC  \n",
       "0  0.981775  0.122017  "
      ]
     },
     "execution_count": 6,
     "metadata": {},
     "output_type": "execute_result"
    }
   ],
   "source": [
    "metrics_chol.mean().to_frame().T"
   ]
  }
 ],
 "metadata": {
  "kernelspec": {
   "display_name": "Python (OpenBLAS)",
   "language": "python",
   "name": "py3"
  },
  "language_info": {
   "codemirror_mode": {
    "name": "ipython",
    "version": 3
   },
   "file_extension": ".py",
   "mimetype": "text/x-python",
   "name": "python",
   "nbconvert_exporter": "python",
   "pygments_lexer": "ipython3",
   "version": "3.9.7"
  },
  "toc": {
   "base_numbering": 1,
   "nav_menu": {},
   "number_sections": true,
   "sideBar": true,
   "skip_h1_title": false,
   "title_cell": "Table of Contents",
   "title_sidebar": "Contents",
   "toc_cell": false,
   "toc_position": {},
   "toc_section_display": true,
   "toc_window_display": false
  }
 },
 "nbformat": 4,
 "nbformat_minor": 5
}
