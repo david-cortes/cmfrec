{
 "cells": [
  {
   "cell_type": "code",
   "execution_count": 1,
   "id": "b239b1b0",
   "metadata": {},
   "outputs": [],
   "source": [
    "import numpy as np, pandas as pd\n",
    "from scipy.sparse import coo_matrix\n",
    "\n",
    "df_all = pd.read_csv(\"lfm_all.csv\")\n",
    "df_train = pd.read_csv(\"lfm_train.csv\")\n",
    "df_test = pd.read_csv(\"lfm_test.csv\")\n",
    "\n",
    "def df_to_csr(df):\n",
    "    X = coo_matrix((df.counts, (df.user_id, df.item_id)))\n",
    "    X.row = X.row.astype(np.int32)\n",
    "    X.col = X.col.astype(np.int32)\n",
    "    X.data = X.data.astype(np.float64)\n",
    "    return X.tocsr()\n",
    "\n",
    "X_all = df_to_csr(df_all)\n",
    "X_train = df_to_csr(df_train)\n",
    "X_test = df_to_csr(df_test)"
   ]
  },
  {
   "cell_type": "code",
   "execution_count": 2,
   "id": "9ff7e38f",
   "metadata": {},
   "outputs": [],
   "source": [
    "import os\n",
    "os.environ['TF_CPP_MIN_LOG_LEVEL'] = '3'\n",
    "import logging\n",
    "logging.disable(logging.WARNING)\n",
    "from cornac.data.dataset import Dataset\n",
    "from cornac.models.wmf.recom_wmf import WMF\n",
    "\n",
    "def coo_to_cornac(X):\n",
    "    return Dataset(\n",
    "        X.shape[0], X.shape[1],\n",
    "        {i:i for i in range(X.shape[0])},\n",
    "        {i:i for i in range(X.shape[1])},\n",
    "        (X.row, X.col, X.data),\n",
    "        seed=1)\n",
    "\n",
    "dt_full = coo_to_cornac(X_all.tocoo())\n",
    "dt_train = coo_to_cornac(X_train.tocoo())"
   ]
  },
  {
   "cell_type": "code",
   "execution_count": 3,
   "id": "ec108829",
   "metadata": {},
   "outputs": [
    {
     "data": {
      "application/vnd.jupyter.widget-view+json": {
       "model_id": "7895d17816454e899b52d7ff59e3a006",
       "version_major": 2,
       "version_minor": 0
      },
      "text/plain": [
       "  0%|          | 0/15 [00:00<?, ?it/s]"
      ]
     },
     "metadata": {},
     "output_type": "display_data"
    },
    {
     "name": "stdout",
     "output_type": "stream",
     "text": [
      "Learning completed!\n",
      "CPU times: user 20h 30min 37s, sys: 20h 29min 50s, total: 1d 17h 28s\n",
      "Wall time: 3h 42min 18s\n"
     ]
    },
    {
     "data": {
      "text/plain": [
       "<cornac.models.wmf.recom_wmf.WMF at 0x7fd4a41fde20>"
      ]
     },
     "execution_count": 3,
     "metadata": {},
     "output_type": "execute_result"
    }
   ],
   "source": [
    "%%time\n",
    "model_sgd = WMF(k=50, max_iter=15, lambda_u=5, lambda_v=5, seed=123)\n",
    "model_sgd.fit(dt_full)"
   ]
  },
  {
   "cell_type": "code",
   "execution_count": 4,
   "id": "4771e737",
   "metadata": {},
   "outputs": [
    {
     "data": {
      "application/vnd.jupyter.widget-view+json": {
       "model_id": "1a479cde6d2d4c18aa3739077c005025",
       "version_major": 2,
       "version_minor": 0
      },
      "text/plain": [
       "  0%|          | 0/15 [00:00<?, ?it/s]"
      ]
     },
     "metadata": {},
     "output_type": "display_data"
    },
    {
     "name": "stdout",
     "output_type": "stream",
     "text": [
      "Learning completed!\n"
     ]
    },
    {
     "data": {
      "text/html": [
       "<div>\n",
       "<style scoped>\n",
       "    .dataframe tbody tr th:only-of-type {\n",
       "        vertical-align: middle;\n",
       "    }\n",
       "\n",
       "    .dataframe tbody tr th {\n",
       "        vertical-align: top;\n",
       "    }\n",
       "\n",
       "    .dataframe thead th {\n",
       "        text-align: right;\n",
       "    }\n",
       "</style>\n",
       "<table border=\"1\" class=\"dataframe\">\n",
       "  <thead>\n",
       "    <tr style=\"text-align: right;\">\n",
       "      <th></th>\n",
       "      <th>P@10</th>\n",
       "      <th>TP@10</th>\n",
       "      <th>R@10</th>\n",
       "      <th>AP@10</th>\n",
       "      <th>TAP@10</th>\n",
       "      <th>NDCG@10</th>\n",
       "      <th>Hit@10</th>\n",
       "      <th>RR@10</th>\n",
       "      <th>ROC_AUC</th>\n",
       "      <th>PR_AUC</th>\n",
       "    </tr>\n",
       "  </thead>\n",
       "  <tbody>\n",
       "    <tr>\n",
       "      <th>0</th>\n",
       "      <td>0.00889</td>\n",
       "      <td>0.008937</td>\n",
       "      <td>0.006234</td>\n",
       "      <td>0.00213</td>\n",
       "      <td>0.003009</td>\n",
       "      <td>0.006946</td>\n",
       "      <td>0.0812</td>\n",
       "      <td>0.026816</td>\n",
       "      <td>0.922328</td>\n",
       "      <td>0.006288</td>\n",
       "    </tr>\n",
       "  </tbody>\n",
       "</table>\n",
       "</div>"
      ],
      "text/plain": [
       "      P@10     TP@10      R@10    AP@10    TAP@10   NDCG@10  Hit@10     RR@10  \\\n",
       "0  0.00889  0.008937  0.006234  0.00213  0.003009  0.006946  0.0812  0.026816   \n",
       "\n",
       "    ROC_AUC    PR_AUC  \n",
       "0  0.922328  0.006288  "
      ]
     },
     "execution_count": 4,
     "metadata": {},
     "output_type": "execute_result"
    }
   ],
   "source": [
    "from recometrics import calc_reco_metrics\n",
    "\n",
    "model_sgd = WMF(k=50, max_iter=15, lambda_u=5, lambda_v=5, seed=123)\n",
    "model_sgd.fit(dt_train)\n",
    "metrics_sgd = calc_reco_metrics(\n",
    "    X_train.tocsr()[:X_test.shape[0],:X_test.shape[1]],\n",
    "    X_test,\n",
    "    model_sgd.U[:X_test.shape[0],:],\n",
    "    model_sgd.V[:X_test.shape[1],:],\n",
    "    k=10, all_metrics=True\n",
    ")\n",
    "metrics_sgd.mean().to_frame().T"
   ]
  }
 ],
 "metadata": {
  "kernelspec": {
   "display_name": "Python (cornac)",
   "language": "python",
   "name": "cornac"
  },
  "language_info": {
   "codemirror_mode": {
    "name": "ipython",
    "version": 3
   },
   "file_extension": ".py",
   "mimetype": "text/x-python",
   "name": "python",
   "nbconvert_exporter": "python",
   "pygments_lexer": "ipython3",
   "version": "3.9.7"
  },
  "toc": {
   "base_numbering": 1,
   "nav_menu": {},
   "number_sections": true,
   "sideBar": true,
   "skip_h1_title": false,
   "title_cell": "Table of Contents",
   "title_sidebar": "Contents",
   "toc_cell": false,
   "toc_position": {},
   "toc_section_display": true,
   "toc_window_display": false
  }
 },
 "nbformat": 4,
 "nbformat_minor": 5
}
