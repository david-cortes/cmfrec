{
 "cells": [
  {
   "cell_type": "code",
   "execution_count": 1,
   "id": "809543a0",
   "metadata": {},
   "outputs": [
    {
     "data": {
      "text/plain": [
       "<358858x160112 sparse matrix of type '<class 'numpy.float64'>'\n",
       "\twith 17164027 stored elements in Compressed Sparse Row format>"
      ]
     },
     "execution_count": 1,
     "metadata": {},
     "output_type": "execute_result"
    }
   ],
   "source": [
    "import os\n",
    "os.environ[\"OPENBLAS_NUM_THREADS\"] = \"1\"\n",
    "import numpy as np, pandas as pd\n",
    "from scipy.sparse import coo_matrix\n",
    "from implicit.als import AlternatingLeastSquares\n",
    "\n",
    "df_all = pd.read_csv(\"lfm_all.csv\")\n",
    "df_train = pd.read_csv(\"lfm_train.csv\")\n",
    "df_test = pd.read_csv(\"lfm_test.csv\")\n",
    "\n",
    "def df_to_csr(df):\n",
    "    X = coo_matrix((df.counts, (df.user_id, df.item_id)))\n",
    "    X.row = X.row.astype(np.int32)\n",
    "    X.col = X.col.astype(np.int32)\n",
    "    X.data = X.data.astype(np.float64)\n",
    "    return X.tocsr()\n",
    "\n",
    "X_all = df_to_csr(df_all)\n",
    "X_train = df_to_csr(df_train)\n",
    "X_test = df_to_csr(df_test)\n",
    "\n",
    "X_train"
   ]
  },
  {
   "cell_type": "code",
   "execution_count": 2,
   "id": "7c6ca099",
   "metadata": {},
   "outputs": [
    {
     "data": {
      "application/vnd.jupyter.widget-view+json": {
       "model_id": "f804a705cb32489f9e05d7705fbf7740",
       "version_major": 2,
       "version_minor": 0
      },
      "text/plain": [
       "  0%|          | 0/15 [00:00<?, ?it/s]"
      ]
     },
     "metadata": {},
     "output_type": "display_data"
    },
    {
     "name": "stdout",
     "output_type": "stream",
     "text": [
      "CPU times: user 7min 1s, sys: 945 ms, total: 7min 2s\n",
      "Wall time: 29 s\n"
     ]
    }
   ],
   "source": [
    "%%time\n",
    "model_cg = AlternatingLeastSquares(\n",
    "    factors=50, regularization=5, dtype=np.float64,\n",
    "    use_native=True, use_cg=True, iterations=15,\n",
    "    calculate_training_loss=False, use_gpu=False,\n",
    "    num_threads=0, random_state=123\n",
    ")\n",
    "model_cg.fit(X_all)"
   ]
  },
  {
   "cell_type": "code",
   "execution_count": 3,
   "id": "7dd38f18",
   "metadata": {},
   "outputs": [
    {
     "data": {
      "application/vnd.jupyter.widget-view+json": {
       "model_id": "ddbbd97d4bee4d4883613883c45e82b9",
       "version_major": 2,
       "version_minor": 0
      },
      "text/plain": [
       "  0%|          | 0/15 [00:00<?, ?it/s]"
      ]
     },
     "metadata": {},
     "output_type": "display_data"
    },
    {
     "name": "stdout",
     "output_type": "stream",
     "text": [
      "CPU times: user 25min 20s, sys: 736 ms, total: 25min 21s\n",
      "Wall time: 1min 38s\n"
     ]
    }
   ],
   "source": [
    "%%time\n",
    "model_chol = AlternatingLeastSquares(\n",
    "    factors=50, regularization=5, dtype=np.float64,\n",
    "    use_native=True, use_cg=False, iterations=15,\n",
    "    calculate_training_loss=False, use_gpu=False,\n",
    "    num_threads=0, random_state=123\n",
    ")\n",
    "model_chol.fit(X_all)"
   ]
  },
  {
   "cell_type": "code",
   "execution_count": 4,
   "id": "09d65b4b",
   "metadata": {},
   "outputs": [
    {
     "data": {
      "application/vnd.jupyter.widget-view+json": {
       "model_id": "d20a4a5a2afc4b56a5796340f6f1168f",
       "version_major": 2,
       "version_minor": 0
      },
      "text/plain": [
       "  0%|          | 0/15 [00:00<?, ?it/s]"
      ]
     },
     "metadata": {},
     "output_type": "display_data"
    },
    {
     "data": {
      "application/vnd.jupyter.widget-view+json": {
       "model_id": "395091488b1e43aea13407a3f39a3932",
       "version_major": 2,
       "version_minor": 0
      },
      "text/plain": [
       "  0%|          | 0/15 [00:00<?, ?it/s]"
      ]
     },
     "metadata": {},
     "output_type": "display_data"
    }
   ],
   "source": [
    "from recometrics import calc_reco_metrics\n",
    "\n",
    "model_cg = AlternatingLeastSquares(\n",
    "    factors=50, regularization=5, dtype=np.float64,\n",
    "    use_native=True, use_cg=True, iterations=15,\n",
    "    calculate_training_loss=False, use_gpu=False,\n",
    "    num_threads=0, random_state=123\n",
    ")\n",
    "model_cg.fit(X_train)\n",
    "metrics_cg = calc_reco_metrics(\n",
    "    X_train[:X_test.shape[0],:X_test.shape[1]],\n",
    "    X_test,\n",
    "    model_cg.user_factors[:X_test.shape[0],:],\n",
    "    model_cg.item_factors[:X_test.shape[1],:],\n",
    "    k=10, all_metrics=True\n",
    ")\n",
    "\n",
    "model_chol = AlternatingLeastSquares(\n",
    "    factors=50, regularization=5, dtype=np.float64,\n",
    "    use_native=True, use_cg=False, iterations=15,\n",
    "    calculate_training_loss=False, use_gpu=False,\n",
    "    num_threads=0, random_state=123\n",
    ")\n",
    "model_chol.fit(X_train)\n",
    "metrics_chol = calc_reco_metrics(\n",
    "    X_train[:X_test.shape[0],:X_test.shape[1]],\n",
    "    X_test,\n",
    "    model_chol.user_factors[:X_test.shape[0],:],\n",
    "    model_chol.item_factors[:X_test.shape[1],:],\n",
    "    k=10, all_metrics=True\n",
    ")"
   ]
  },
  {
   "cell_type": "code",
   "execution_count": 5,
   "id": "0ee6a395",
   "metadata": {},
   "outputs": [
    {
     "data": {
      "text/html": [
       "<div>\n",
       "<style scoped>\n",
       "    .dataframe tbody tr th:only-of-type {\n",
       "        vertical-align: middle;\n",
       "    }\n",
       "\n",
       "    .dataframe tbody tr th {\n",
       "        vertical-align: top;\n",
       "    }\n",
       "\n",
       "    .dataframe thead th {\n",
       "        text-align: right;\n",
       "    }\n",
       "</style>\n",
       "<table border=\"1\" class=\"dataframe\">\n",
       "  <thead>\n",
       "    <tr style=\"text-align: right;\">\n",
       "      <th></th>\n",
       "      <th>P@10</th>\n",
       "      <th>TP@10</th>\n",
       "      <th>R@10</th>\n",
       "      <th>AP@10</th>\n",
       "      <th>TAP@10</th>\n",
       "      <th>NDCG@10</th>\n",
       "      <th>Hit@10</th>\n",
       "      <th>RR@10</th>\n",
       "      <th>ROC_AUC</th>\n",
       "      <th>PR_AUC</th>\n",
       "    </tr>\n",
       "  </thead>\n",
       "  <tbody>\n",
       "    <tr>\n",
       "      <th>0</th>\n",
       "      <td>0.17007</td>\n",
       "      <td>0.170982</td>\n",
       "      <td>0.117821</td>\n",
       "      <td>0.061387</td>\n",
       "      <td>0.089215</td>\n",
       "      <td>0.167968</td>\n",
       "      <td>0.7851</td>\n",
       "      <td>0.411801</td>\n",
       "      <td>0.980403</td>\n",
       "      <td>0.120986</td>\n",
       "    </tr>\n",
       "  </tbody>\n",
       "</table>\n",
       "</div>"
      ],
      "text/plain": [
       "      P@10     TP@10      R@10     AP@10    TAP@10   NDCG@10  Hit@10  \\\n",
       "0  0.17007  0.170982  0.117821  0.061387  0.089215  0.167968  0.7851   \n",
       "\n",
       "      RR@10   ROC_AUC    PR_AUC  \n",
       "0  0.411801  0.980403  0.120986  "
      ]
     },
     "execution_count": 5,
     "metadata": {},
     "output_type": "execute_result"
    }
   ],
   "source": [
    "metrics_cg.mean().to_frame().T"
   ]
  },
  {
   "cell_type": "code",
   "execution_count": 6,
   "id": "9fa7de94",
   "metadata": {},
   "outputs": [
    {
     "data": {
      "text/html": [
       "<div>\n",
       "<style scoped>\n",
       "    .dataframe tbody tr th:only-of-type {\n",
       "        vertical-align: middle;\n",
       "    }\n",
       "\n",
       "    .dataframe tbody tr th {\n",
       "        vertical-align: top;\n",
       "    }\n",
       "\n",
       "    .dataframe thead th {\n",
       "        text-align: right;\n",
       "    }\n",
       "</style>\n",
       "<table border=\"1\" class=\"dataframe\">\n",
       "  <thead>\n",
       "    <tr style=\"text-align: right;\">\n",
       "      <th></th>\n",
       "      <th>P@10</th>\n",
       "      <th>TP@10</th>\n",
       "      <th>R@10</th>\n",
       "      <th>AP@10</th>\n",
       "      <th>TAP@10</th>\n",
       "      <th>NDCG@10</th>\n",
       "      <th>Hit@10</th>\n",
       "      <th>RR@10</th>\n",
       "      <th>ROC_AUC</th>\n",
       "      <th>PR_AUC</th>\n",
       "    </tr>\n",
       "  </thead>\n",
       "  <tbody>\n",
       "    <tr>\n",
       "      <th>0</th>\n",
       "      <td>0.17031</td>\n",
       "      <td>0.171256</td>\n",
       "      <td>0.117941</td>\n",
       "      <td>0.061371</td>\n",
       "      <td>0.089321</td>\n",
       "      <td>0.168132</td>\n",
       "      <td>0.7872</td>\n",
       "      <td>0.413636</td>\n",
       "      <td>0.980073</td>\n",
       "      <td>0.121167</td>\n",
       "    </tr>\n",
       "  </tbody>\n",
       "</table>\n",
       "</div>"
      ],
      "text/plain": [
       "      P@10     TP@10      R@10     AP@10    TAP@10   NDCG@10  Hit@10  \\\n",
       "0  0.17031  0.171256  0.117941  0.061371  0.089321  0.168132  0.7872   \n",
       "\n",
       "      RR@10   ROC_AUC    PR_AUC  \n",
       "0  0.413636  0.980073  0.121167  "
      ]
     },
     "execution_count": 6,
     "metadata": {},
     "output_type": "execute_result"
    }
   ],
   "source": [
    "metrics_chol.mean().to_frame().T"
   ]
  }
 ],
 "metadata": {
  "kernelspec": {
   "display_name": "Python (OpenBLAS)",
   "language": "python",
   "name": "py3"
  },
  "language_info": {
   "codemirror_mode": {
    "name": "ipython",
    "version": 3
   },
   "file_extension": ".py",
   "mimetype": "text/x-python",
   "name": "python",
   "nbconvert_exporter": "python",
   "pygments_lexer": "ipython3",
   "version": "3.9.7"
  },
  "toc": {
   "base_numbering": 1,
   "nav_menu": {},
   "number_sections": true,
   "sideBar": true,
   "skip_h1_title": false,
   "title_cell": "Table of Contents",
   "title_sidebar": "Contents",
   "toc_cell": false,
   "toc_position": {},
   "toc_section_display": true,
   "toc_window_display": false
  }
 },
 "nbformat": 4,
 "nbformat_minor": 5
}
